{
 "cells": [
  {
   "cell_type": "code",
   "execution_count": 13,
   "id": "c386ab95",
   "metadata": {},
   "outputs": [],
   "source": [
    "ans = main_multiple(1000)\n"
   ]
  },
  {
   "cell_type": "code",
   "execution_count": 17,
   "id": "2183614c",
   "metadata": {},
   "outputs": [
    {
     "data": {
      "image/png": "[encoded data removed]",
      "text/plain": [
       "<Figure size 432x288 with 1 Axes>"
      ]
     },
     "metadata": {
      "needs_background": "light"
     },
     "output_type": "display_data"
    }
   ],
   "source": [
    "plt.hist(ans, bins=10, edgecolor='black')\n",
    "mean = np.mean(ans)\n",
    "median = np.median(ans)\n",
    "# 添加標籤和標題\n",
    "plt.axvline(mean, c=\"r\", ls=\"--\", lw=1)\n",
    "# plt.axvline(median, c=\"r\", ls=\"--\", lw=1)\n",
    "plt.xlabel('how gifted they are')\n",
    "plt.ylabel('number of people')\n",
    "plt.title('Gift Disturbution')\n",
    "\n",
    "# 顯示圖形\n",
    "plt.show()"
   ]
  },
  {
   "cell_type": "code",
   "execution_count": 1,
   "id": "2fa0e1ad",
   "metadata": {},
   "outputs": [],
   "source": [
    "# 產生隨機數據\n",
    "\n",
    "N_people = 1000\n",
    "life_period = 80\n",
    "\n",
    "def main_multiple(n):\n",
    "    ans = []\n",
    "    for i in range(n):\n",
    "        db = np.random.normal(loc=0.6, scale=0.1, size=(N_people))\n",
    "\n",
    "        #調整上下限\n",
    "        db[db > 0.9] = 0.9\n",
    "        db[db < 0.3] = 0.3\n",
    "\n",
    "        # 添加人生歷程 \n",
    "        life_advance = np.random.rand(N_people,life_period)\n",
    "\n",
    "        # 大於0.9視為好運 小於0.1視為壞運\n",
    "        life_advance[(life_advance >= 0.9)] = 2.0\n",
    "        life_advance[(life_advance >= 0.1) & (life_advance <= 0.9)] = 1\n",
    "        life_advance[(life_advance <= 0.1)] = 0.5\n",
    "\n",
    "        #跑結果\n",
    "        property1 = life_process(db ,life_advance)\n",
    "\n",
    "        luck = compute_luck(db ,life_advance)\n",
    "\n",
    "        # 找出最多財產的人的天分\n",
    "        rich = property1.index(max(property1))\n",
    "        ans += luck[rich][0],\n",
    "        \n",
    "    return ans"
   ]
  },
  {
   "cell_type": "code",
   "execution_count": 2,
   "id": "d8538e1e",
   "metadata": {},
   "outputs": [],
   "source": [
    "import numpy as np\n",
    "import matplotlib.pyplot as plt\n",
    "\n",
    "#跑結果 \n",
    "def life_process(data ,arr): #data為gift分配 ,arr為 life_advance\n",
    "    res = []\n",
    "    for ind ,ele in enumerate(arr):\n",
    "        val = data[ind]\n",
    "        for j in ele:\n",
    "            if j == 0.5:\n",
    "                val /= 2\n",
    "            elif j == 2:\n",
    "                rd =  np.random.rand()\n",
    "                if rd < data[ind]:\n",
    "                    val *= 2\n",
    "        res += val,\n",
    "    return res\n",
    "\n",
    "# 統計好運壞運次數\n",
    "def compute_luck(data ,arr):\n",
    "    luck = []\n",
    "    for ind ,ele in enumerate(arr):  \n",
    "        gift    = data[ind]\n",
    "        count_1 = np.count_nonzero(ele == 0.5)\n",
    "        count_2 = np.count_nonzero(ele == 2)\n",
    "    \n",
    "        luck += (gift ,count_1 ,count_2),\n",
    "    return luck\n"
   ]
  },
  {
   "cell_type": "code",
   "execution_count": null,
   "id": "aed5d290",
   "metadata": {},
   "outputs": [],
   "source": []
  }
 ],
 "metadata": {
  "kernelspec": {
   "display_name": "Coding",
   "language": "python",
   "name": "coding"
  },
  "language_info": {
   "codemirror_mode": {
    "name": "ipython",
    "version": 3
   },
   "file_extension": ".py",
   "mimetype": "text/x-python",
   "name": "python",
   "nbconvert_exporter": "python",
   "pygments_lexer": "ipython3",
   "version": "3.8.8"
  }
 },
 "nbformat": 4,
 "nbformat_minor": 5
}
